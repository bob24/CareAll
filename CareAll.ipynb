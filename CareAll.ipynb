{
 "cells": [
  {
   "cell_type": "markdown",
   "metadata": {},
   "source": [
    "### Class_Diagram For CareAll"
   ]
  },
  {
   "cell_type": "markdown",
   "metadata": {},
   "source": [
    "<img src='image.png'>"
   ]
  },
  {
   "cell_type": "markdown",
   "metadata": {
    "collapsed": true
   },
   "source": [
    "###### Firstly i have written Elder.py where each elder can post there advertisement along with 'name','age','fund_available','Are_they_Couples'"
   ]
  },
  {
   "cell_type": "markdown",
   "metadata": {},
   "source": [
    "##### Generated text file after running this Elder.py File is  ' Post_File_After_ElderClass_Firsttime ' . output file looks like"
   ]
  },
  {
   "cell_type": "code",
   "execution_count": null,
   "metadata": {
    "collapsed": true
   },
   "outputs": [],
   "source": [
    "'abc', 66, 5000, 'yes'\n",
    "'def', 77, 6000, 'no'\n",
    "'efg', 88, 5500, 'no'\n",
    "'hij', 99, 6500, 'yes'\n",
    "'klm', 55, 7000, 'yes'\n"
   ]
  },
  {
   "cell_type": "markdown",
   "metadata": {},
   "source": [
    "##### where 5 elders has posted there advertisement "
   ]
  },
  {
   "cell_type": "markdown",
   "metadata": {},
   "source": [
    "##### next i have written Young.py where each younger_person can select elder person based on row number"
   ]
  },
  {
   "cell_type": "markdown",
   "metadata": {},
   "source": [
    "##### Generated text file after running this Young.py File is 'Select_File_After_Young_Class'. output file looks like"
   ]
  },
  {
   "cell_type": "code",
   "execution_count": null,
   "metadata": {
    "collapsed": true
   },
   "outputs": [],
   "source": [
    "'young1', 21, \"'def'\", ' 77', \" 'no'\\n\"\n",
    "'young1', 21, \"'efg'\", ' 88', \" 'no'\\n\"\n",
    "'young1', 21, \"'hij'\", ' 99', \" 'yes'\\n\"\n",
    "'young1', 21, \"'klm'\", ' 55', \" 'yes'\\n\"\n",
    "'young2', 20, \"'abc'\", ' 66', \" 'yes'\\n\"\n",
    "'young2', 20, \"'def'\", ' 77', \" 'no'\\n\"\n",
    "'young2', 20, \"'hij'\", ' 99', \" 'yes'\\n\"\n",
    "'young2', 20, \"'klm'\", ' 55', \" 'yes'\\n\"\n",
    "'young3', 19, \"'abc'\", ' 66', \" 'yes'\\n\"\n",
    "'young3', 19, \"'def'\", ' 77', \" 'no'\\n\"\n",
    "'young3', 19, \"'efg'\", ' 88', \" 'no'\\n\"\n",
    "'young3', 19, \"'hij'\", ' 99', \" 'yes'\\n\"\n"
   ]
  },
  {
   "cell_type": "markdown",
   "metadata": {},
   "source": [
    "##### where each young_guy has selected four elder_people"
   ]
  },
  {
   "cell_type": "markdown",
   "metadata": {},
   "source": [
    "##### next we again run Elder.py to confirm the requests."
   ]
  },
  {
   "cell_type": "markdown",
   "metadata": {},
   "source": [
    "##### Generated text file after running this Elder.py is 'Confirm_File_After_ElderClass_Secondtime'. output file looks like"
   ]
  },
  {
   "cell_type": "code",
   "execution_count": null,
   "metadata": {
    "collapsed": true
   },
   "outputs": [],
   "source": [
    "'abc', 66, 'yes', 'young2', 20\n",
    "'def', 77, 'no', 'young3', 19\n",
    "'efg', 88, 'no', 'young3', 19\n",
    "'hij', 99, 'yes', 'young2', 20\n",
    "'klm', 55, 'yes', 'young1', 21\n"
   ]
  },
  {
   "cell_type": "markdown",
   "metadata": {},
   "source": [
    "##### 3) A) There are 3 couples i.e 'abc', 'hij' and 'klm' out of which older is 'hij' and they are taken cared by 'young2'"
   ]
  },
  {
   "cell_type": "markdown",
   "metadata": {},
   "source": [
    "##### 3) B) young chap is 'young3' i.e he has age 19 and he is looking after 'def' and 'efg'"
   ]
  }
 ],
 "metadata": {
  "kernelspec": {
   "display_name": "Python 3",
   "language": "python",
   "name": "python3"
  },
  "language_info": {
   "codemirror_mode": {
    "name": "ipython",
    "version": 3
   },
   "file_extension": ".py",
   "mimetype": "text/x-python",
   "name": "python",
   "nbconvert_exporter": "python",
   "pygments_lexer": "ipython3",
   "version": "3.6.3"
  }
 },
 "nbformat": 4,
 "nbformat_minor": 2
}
